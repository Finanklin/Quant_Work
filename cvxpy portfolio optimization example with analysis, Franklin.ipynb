{
 "cells": [
  {
   "cell_type": "code",
   "execution_count": 1,
   "metadata": {},
   "outputs": [
    {
     "name": "stderr",
     "output_type": "stream",
     "text": [
      "C:\\Users\\mc590\\anaconda3\\lib\\site-packages\\pandas\\core\\computation\\expressions.py:20: UserWarning: Pandas requires version '2.7.3' or newer of 'numexpr' (version '2.7.1' currently installed).\n",
      "  from pandas.core.computation.check import NUMEXPR_INSTALLED\n",
      "C:\\Users\\mc590\\anaconda3\\lib\\site-packages\\pyfolio\\pos.py:26: UserWarning: Module \"zipline.assets\" not found; mutltipliers will not be applied to position notionals.\n",
      "  warnings.warn(\n"
     ]
    }
   ],
   "source": [
    "import pandas as pd\n",
    "import cvxpy as cp\n",
    "import yfinance as yf\n",
    "import numpy as np\n",
    "import matplotlib.pyplot as plt\n",
    "import seaborn as sns\n",
    "import pyfolio as pf"
   ]
  },
  {
   "cell_type": "markdown",
   "metadata": {},
   "source": [
    "Just in case yahoo finance api has threading problem, you can use the below suggestion to fix it:\n",
    "https://stackoverflow.com/questions/68320184/yfinance-returning-error-when-downloading-data\n",
    "\n",
    "If you don't have pyfolio, please pip install pyfolio"
   ]
  },
  {
   "cell_type": "markdown",
   "metadata": {},
   "source": [
    "# Construct a portfolio using NASDAQ 100 components, and optimize it using cvxpy"
   ]
  },
  {
   "cell_type": "markdown",
   "metadata": {},
   "source": [
    "## Portfolio allocation vector\n",
    "\n",
    "In this example we show how to do portfolio optimization using CVXPY.\n",
    "We begin with the basic definitions.\n",
    "In portfolio optimization we have some amount of money to invest in any of $n$ different assets. \n",
    "We choose what fraction $w_i$ of our money to invest in each asset $i$, $i=1, \\ldots, n$.\n",
    "\n",
    "We call $w\\in {\\bf R}^n$ the *portfolio allocation vector*.\n",
    "We of course have the constraint that ${\\mathbf 1}^T w =1$.\n",
    "The allocation $w_i<0$ means a *short position* in asset $i$, or that we borrow shares to sell now that we must replace later.\n",
    "The allocation $w \\geq 0$ is a *long only* portfolio.\n",
    "The quantity"
   ]
  },
  {
   "cell_type": "markdown",
   "metadata": {},
   "source": [
    "$$\n",
    "\\|w \\|_1 = {\\mathbf 1}^T w_+ + {\\mathbf 1}^T w_-\n",
    "$$"
   ]
  },
  {
   "cell_type": "markdown",
   "metadata": {},
   "source": [
    "is known as *leverage*."
   ]
  },
  {
   "cell_type": "code",
   "execution_count": 2,
   "metadata": {},
   "outputs": [
    {
     "data": {
      "text/html": [
       "<div>\n",
       "<style scoped>\n",
       "    .dataframe tbody tr th:only-of-type {\n",
       "        vertical-align: middle;\n",
       "    }\n",
       "\n",
       "    .dataframe tbody tr th {\n",
       "        vertical-align: top;\n",
       "    }\n",
       "\n",
       "    .dataframe thead th {\n",
       "        text-align: right;\n",
       "    }\n",
       "</style>\n",
       "<table border=\"1\" class=\"dataframe\">\n",
       "  <thead>\n",
       "    <tr style=\"text-align: right;\">\n",
       "      <th></th>\n",
       "      <th>Symbol</th>\n",
       "      <th>Name</th>\n",
       "      <th>Market Cap</th>\n",
       "      <th>Last Sale</th>\n",
       "      <th>Net Change</th>\n",
       "      <th>Percentage Change</th>\n",
       "    </tr>\n",
       "  </thead>\n",
       "  <tbody>\n",
       "    <tr>\n",
       "      <th>0</th>\n",
       "      <td>ABNB</td>\n",
       "      <td>Airbnb, Inc. Class A Common Stock</td>\n",
       "      <td>81,952,522,298</td>\n",
       "      <td>$128.16</td>\n",
       "      <td>$3.06</td>\n",
       "      <td>2.45%</td>\n",
       "    </tr>\n",
       "    <tr>\n",
       "      <th>1</th>\n",
       "      <td>ADBE</td>\n",
       "      <td>Adobe Inc. Common Stock</td>\n",
       "      <td>224,299,713,000</td>\n",
       "      <td>$488.99</td>\n",
       "      <td>$5.22</td>\n",
       "      <td>1.08%</td>\n",
       "    </tr>\n",
       "    <tr>\n",
       "      <th>2</th>\n",
       "      <td>ADI</td>\n",
       "      <td>Analog Devices, Inc. Common Stock</td>\n",
       "      <td>97,681,299,802</td>\n",
       "      <td>$194.81</td>\n",
       "      <td>$5.33</td>\n",
       "      <td>2.81%</td>\n",
       "    </tr>\n",
       "  </tbody>\n",
       "</table>\n",
       "</div>"
      ],
      "text/plain": [
       "  Symbol                               Name       Market Cap Last Sale  \\\n",
       "0   ABNB  Airbnb, Inc. Class A Common Stock   81,952,522,298   $128.16   \n",
       "1   ADBE            Adobe Inc. Common Stock  224,299,713,000   $488.99   \n",
       "2    ADI  Analog Devices, Inc. Common Stock   97,681,299,802   $194.81   \n",
       "\n",
       "  Net Change Percentage Change  \n",
       "0      $3.06             2.45%  \n",
       "1      $5.22             1.08%  \n",
       "2      $5.33             2.81%  "
      ]
     },
     "execution_count": 2,
     "metadata": {},
     "output_type": "execute_result"
    }
   ],
   "source": [
    "NASDAQ_100 = pd.read_csv(r\"D:\\Dispersions_Data\\NASDAQ100.csv\",delimiter=';')\n",
    "NASDAQ_100.head(3)"
   ]
  },
  {
   "cell_type": "code",
   "execution_count": 3,
   "metadata": {},
   "outputs": [],
   "source": [
    "NASDAQ_100_components = list(NASDAQ_100[\"Symbol\"])"
   ]
  },
  {
   "cell_type": "code",
   "execution_count": 4,
   "metadata": {},
   "outputs": [],
   "source": [
    "def get_nasdaq_data(assets, start='2013-01-01', end=None):\n",
    "    # Download historical data to a multi-index DataFrame\n",
    "    try:\n",
    "        data = yf.download(assets, start=start, end=end)\n",
    "        filename = 'nasdaq_components_data.pkl'\n",
    "        data.to_pickle(filename)\n",
    "        print('Data saved at {}'.format(filename))\n",
    "    except ValueError:\n",
    "        print('Failed download, try again.')\n",
    "        data = None\n",
    "    return data"
   ]
  },
  {
   "cell_type": "markdown",
   "metadata": {},
   "source": [
    "## Cumulative return for NASDAQ 100:"
   ]
  },
  {
   "cell_type": "code",
   "execution_count": 5,
   "metadata": {},
   "outputs": [
    {
     "name": "stdout",
     "output_type": "stream",
     "text": [
      "2.0.3\n"
     ]
    }
   ],
   "source": [
    "print(pd. __version__)"
   ]
  },
  {
   "cell_type": "code",
   "execution_count": 6,
   "metadata": {
    "scrolled": true
   },
   "outputs": [
    {
     "name": "stdout",
     "output_type": "stream",
     "text": [
      "[*********************100%***********************]  1 of 1 completed\n",
      "Data saved at nasdaq_components_data.pkl\n"
     ]
    }
   ],
   "source": [
    "#Download NASDAQ 100 data\n",
    "nasdaq_original = get_nasdaq_data([\"NDX\"])"
   ]
  },
  {
   "cell_type": "code",
   "execution_count": 7,
   "metadata": {},
   "outputs": [
    {
     "data": {
      "text/plain": [
       "<matplotlib.axes._subplots.AxesSubplot at 0x22efebe8520>"
      ]
     },
     "execution_count": 7,
     "metadata": {},
     "output_type": "execute_result"
    },
    {
     "data": {
      "image/png": "[encoded data removed]",
      "text/plain": [
       "<Figure size 432x288 with 1 Axes>"
      ]
     },
     "metadata": {},
     "output_type": "display_data"
    }
   ],
   "source": [
    "sns.set_style(\"whitegrid\")  # You can choose different styles like \"whitegrid\", \"dark\", \"white\", etc.\n",
    "nasdaq_original_return = nasdaq_original[\"Adj Close\"]/nasdaq_original[\"Adj Close\"].shift(1)\n",
    "nasdaq_original_return = nasdaq_original_return.iloc[1:]\n",
    "nasdaq_original_return.cumprod().plot(title = \"NASDAQ 100 cumulative return\")"
   ]
  },
  {
   "cell_type": "markdown",
   "metadata": {},
   "source": [
    "## Components of NASDAQ 100"
   ]
  },
  {
   "cell_type": "code",
   "execution_count": 8,
   "metadata": {},
   "outputs": [
    {
     "name": "stdout",
     "output_type": "stream",
     "text": [
      "[*********************100%***********************]  97 of 97 completed\n",
      "Data saved at nasdaq_components_data.pkl\n"
     ]
    }
   ],
   "source": [
    "#Download the NASDAQ 100 components\n",
    "nasdaq_data = get_nasdaq_data(NASDAQ_100_components)\n",
    "nasdaq_adj_close = nasdaq_data[\"Adj Close\"]"
   ]
  },
  {
   "cell_type": "code",
   "execution_count": 9,
   "metadata": {},
   "outputs": [
    {
     "data": {
      "text/html": [
       "<div>\n",
       "<style scoped>\n",
       "    .dataframe tbody tr th:only-of-type {\n",
       "        vertical-align: middle;\n",
       "    }\n",
       "\n",
       "    .dataframe tbody tr th {\n",
       "        vertical-align: top;\n",
       "    }\n",
       "\n",
       "    .dataframe thead tr th {\n",
       "        text-align: left;\n",
       "    }\n",
       "\n",
       "    .dataframe thead tr:last-of-type th {\n",
       "        text-align: right;\n",
       "    }\n",
       "</style>\n",
       "<table border=\"1\" class=\"dataframe\">\n",
       "  <thead>\n",
       "    <tr>\n",
       "      <th></th>\n",
       "      <th colspan=\"10\" halign=\"left\">Adj Close</th>\n",
       "      <th>...</th>\n",
       "      <th colspan=\"10\" halign=\"left\">Volume</th>\n",
       "    </tr>\n",
       "    <tr>\n",
       "      <th></th>\n",
       "      <th>ABNB</th>\n",
       "      <th>ADBE</th>\n",
       "      <th>ADI</th>\n",
       "      <th>ADP</th>\n",
       "      <th>ADSK</th>\n",
       "      <th>AEP</th>\n",
       "      <th>ALGN</th>\n",
       "      <th>AMAT</th>\n",
       "      <th>AMD</th>\n",
       "      <th>AMGN</th>\n",
       "      <th>...</th>\n",
       "      <th>TSLA</th>\n",
       "      <th>TXN</th>\n",
       "      <th>VRSK</th>\n",
       "      <th>VRTX</th>\n",
       "      <th>WBA</th>\n",
       "      <th>WBD</th>\n",
       "      <th>WDAY</th>\n",
       "      <th>XEL</th>\n",
       "      <th>ZM</th>\n",
       "      <th>ZS</th>\n",
       "    </tr>\n",
       "    <tr>\n",
       "      <th>Date</th>\n",
       "      <th></th>\n",
       "      <th></th>\n",
       "      <th></th>\n",
       "      <th></th>\n",
       "      <th></th>\n",
       "      <th></th>\n",
       "      <th></th>\n",
       "      <th></th>\n",
       "      <th></th>\n",
       "      <th></th>\n",
       "      <th></th>\n",
       "      <th></th>\n",
       "      <th></th>\n",
       "      <th></th>\n",
       "      <th></th>\n",
       "      <th></th>\n",
       "      <th></th>\n",
       "      <th></th>\n",
       "      <th></th>\n",
       "      <th></th>\n",
       "      <th></th>\n",
       "    </tr>\n",
       "  </thead>\n",
       "  <tbody>\n",
       "    <tr>\n",
       "      <th>2013-01-02</th>\n",
       "      <td>NaN</td>\n",
       "      <td>38.340000</td>\n",
       "      <td>34.611385</td>\n",
       "      <td>40.575188</td>\n",
       "      <td>36.939999</td>\n",
       "      <td>29.987427</td>\n",
       "      <td>28.400000</td>\n",
       "      <td>10.091087</td>\n",
       "      <td>2.53</td>\n",
       "      <td>67.581932</td>\n",
       "      <td>...</td>\n",
       "      <td>17922000</td>\n",
       "      <td>13357500</td>\n",
       "      <td>1305600</td>\n",
       "      <td>1790600</td>\n",
       "      <td>10064100</td>\n",
       "      <td>3077187</td>\n",
       "      <td>1103500</td>\n",
       "      <td>2702000</td>\n",
       "      <td>NaN</td>\n",
       "      <td>NaN</td>\n",
       "    </tr>\n",
       "    <tr>\n",
       "      <th>2013-01-03</th>\n",
       "      <td>NaN</td>\n",
       "      <td>37.750000</td>\n",
       "      <td>34.052883</td>\n",
       "      <td>40.735027</td>\n",
       "      <td>36.369999</td>\n",
       "      <td>29.966814</td>\n",
       "      <td>29.170000</td>\n",
       "      <td>10.065519</td>\n",
       "      <td>2.49</td>\n",
       "      <td>67.157425</td>\n",
       "      <td>...</td>\n",
       "      <td>11130000</td>\n",
       "      <td>8832500</td>\n",
       "      <td>1201700</td>\n",
       "      <td>1841500</td>\n",
       "      <td>7142300</td>\n",
       "      <td>2030192</td>\n",
       "      <td>433800</td>\n",
       "      <td>2403600</td>\n",
       "      <td>NaN</td>\n",
       "      <td>NaN</td>\n",
       "    </tr>\n",
       "    <tr>\n",
       "      <th>2013-01-04</th>\n",
       "      <td>NaN</td>\n",
       "      <td>38.130001</td>\n",
       "      <td>33.447189</td>\n",
       "      <td>41.096371</td>\n",
       "      <td>36.360001</td>\n",
       "      <td>29.918730</td>\n",
       "      <td>29.309999</td>\n",
       "      <td>10.065519</td>\n",
       "      <td>2.59</td>\n",
       "      <td>67.453056</td>\n",
       "      <td>...</td>\n",
       "      <td>10110000</td>\n",
       "      <td>7606600</td>\n",
       "      <td>692300</td>\n",
       "      <td>2538100</td>\n",
       "      <td>8324800</td>\n",
       "      <td>1715898</td>\n",
       "      <td>547800</td>\n",
       "      <td>1750100</td>\n",
       "      <td>NaN</td>\n",
       "      <td>NaN</td>\n",
       "    </tr>\n",
       "  </tbody>\n",
       "</table>\n",
       "<p>3 rows × 582 columns</p>\n",
       "</div>"
      ],
      "text/plain": [
       "           Adj Close                                                         \\\n",
       "                ABNB       ADBE        ADI        ADP       ADSK        AEP   \n",
       "Date                                                                          \n",
       "2013-01-02       NaN  38.340000  34.611385  40.575188  36.939999  29.987427   \n",
       "2013-01-03       NaN  37.750000  34.052883  40.735027  36.369999  29.966814   \n",
       "2013-01-04       NaN  38.130001  33.447189  41.096371  36.360001  29.918730   \n",
       "\n",
       "                                                   ...    Volume            \\\n",
       "                 ALGN       AMAT   AMD       AMGN  ...      TSLA       TXN   \n",
       "Date                                               ...                       \n",
       "2013-01-02  28.400000  10.091087  2.53  67.581932  ...  17922000  13357500   \n",
       "2013-01-03  29.170000  10.065519  2.49  67.157425  ...  11130000   8832500   \n",
       "2013-01-04  29.309999  10.065519  2.59  67.453056  ...  10110000   7606600   \n",
       "\n",
       "                                                                           \n",
       "               VRSK     VRTX       WBA      WBD     WDAY      XEL  ZM  ZS  \n",
       "Date                                                                       \n",
       "2013-01-02  1305600  1790600  10064100  3077187  1103500  2702000 NaN NaN  \n",
       "2013-01-03  1201700  1841500   7142300  2030192   433800  2403600 NaN NaN  \n",
       "2013-01-04   692300  2538100   8324800  1715898   547800  1750100 NaN NaN  \n",
       "\n",
       "[3 rows x 582 columns]"
      ]
     },
     "execution_count": 9,
     "metadata": {},
     "output_type": "execute_result"
    }
   ],
   "source": [
    "nasdaq_data.head(3)"
   ]
  },
  {
   "cell_type": "markdown",
   "metadata": {},
   "source": [
    "## Data preprocessing:\n",
    "* drop the column, which is an asset ticker, if the missing data is more than 5%\n",
    "* ffill the column if the missing data is less than 5%"
   ]
  },
  {
   "cell_type": "code",
   "execution_count": 10,
   "metadata": {},
   "outputs": [],
   "source": [
    "def drop_and_ffill_by_threshold(df, threshold, axis=0):\n",
    "    if axis == 0:\n",
    "        # calculate missing value percent\n",
    "        row_missing_percent = df.isnull().sum(axis=1) / df.shape[1] * 100\n",
    "        # delete by row\n",
    "        df_dropped = df.loc[row_missing_percent <= threshold]\n",
    "        df_dropped = df_dropped.dropna()\n",
    "        # ffill\n",
    "        df_filled = df_dropped.ffill()\n",
    "    elif axis == 1:\n",
    "        # calculate missing value percent\n",
    "        col_missing_percent = df.isnull().sum(axis=0) / df.shape[0] * 100\n",
    "        # delete by column\n",
    "        df_dropped = df.loc[:, col_missing_percent <= threshold]\n",
    "        # ffill\n",
    "        df_filled = df_dropped.ffill(axis=1)\n",
    "    else:\n",
    "        raise ValueError(\"Invalid axis value. axis must be 0 or 1.\")\n",
    "    \n",
    "    #drop the first few lines missing, just to double check there is no missing value\n",
    "    df_filled = df_filled.dropna()\n",
    "    return df_filled"
   ]
  },
  {
   "cell_type": "markdown",
   "metadata": {},
   "source": [
    "## Asset returns\n",
    "\n",
    "We will only model investments held for one period. The initial prices are $p_i > 0$. The end of period prices are $p_i^+ >0$. The asset (fractional) returns are $r_i = (p_i^+-p_i)/p_i$. The porfolio (fractional) return is $R = r^Tw$.\n",
    "\n",
    "A common model is that $r$ is a random variable with mean ${\\bf E}r = \\mu$ and covariance ${\\bf E{(r-\\mu)(r-\\mu)^T}} = \\Sigma$.\n",
    "It follows that $R$ is a random variable with ${\\bf E}R = \\mu^T w$ and ${\\bf var}(R) = w^T\\Sigma w$.\n",
    "${\\bf E}R$ is the (mean) *return* of the portfolio. ${\\bf var}(R)$ is the *risk* of the portfolio.\n",
    "(Risk is also sometimes given as ${\\bf std}(R) = \\sqrt{{\\bf var}(R)}$.)\n",
    "\n",
    "Portfolio optimization has two competing objectives: high return and low risk."
   ]
  },
  {
   "cell_type": "markdown",
   "metadata": {},
   "source": [
    "## Classical (Markowitz) portfolio optimization\n",
    "\n",
    "Classical (Markowitz) portfolio optimization solves the optimization problem"
   ]
  },
  {
   "cell_type": "markdown",
   "metadata": {},
   "source": [
    "$$\n",
    "\\begin{array}{ll} \\mbox{maximize} & \\mu^T w - \\gamma w^T\\Sigma w\\\\\n",
    "\\mbox{subject to} & {\\bf 1}^T w = 1, \\quad w \\in {\\cal W},\n",
    "\\end{array}\n",
    "$$"
   ]
  },
  {
   "cell_type": "markdown",
   "metadata": {},
   "source": [
    "where $w \\in {\\bf R}^n$ is the optimization variable, $\\cal W$ is a set of allowed portfolios (e.g., ${\\cal W} = {\\bf R}_+^n$ for a long only portfolio), and $\\gamma >0$ is the *risk aversion parameter*.\n",
    "\n",
    "The objective $\\mu^Tw - \\gamma w^T\\Sigma w$ is the *risk-adjusted return*. Varying $\\gamma$ gives the optimal *risk-return trade-off*.\n",
    "We can get the same risk-return trade-off by fixing return and minimizing risk."
   ]
  },
  {
   "cell_type": "markdown",
   "metadata": {},
   "source": [
    "## Portfolio construction\n",
    "Every month calculate the optimal weight from the historical past 1 year return, and keep the weight as a portfolio until next rebalance\n",
    "\n",
    "We add one extra constraint that we are building a LONG ONLY portfolio"
   ]
  },
  {
   "cell_type": "code",
   "execution_count": 11,
   "metadata": {},
   "outputs": [],
   "source": [
    "nasdaq_return = nasdaq_adj_close/nasdaq_adj_close.shift(1) - 1\n",
    "nasdaq_return = nasdaq_return.iloc[1:,:]\n",
    "gamma_lists = [0.3, 0.5, 0.7, 1, 1.5] #risk averse level grid search\n",
    "backtest_results = {}\n",
    "\n",
    "for gamma_value in gamma_lists:\n",
    "    portfolio_returns = []\n",
    "    for i in range(252, len(nasdaq_return)):\n",
    "        #initialize\n",
    "        optimized_w = []\n",
    "        portfolio = 0\n",
    "\n",
    "        #rebalance the portfolio every month\n",
    "        if (i-252)%22 == 0: \n",
    "            temp = nasdaq_return.iloc[i-252:i, :]\n",
    "            temp = drop_and_ffill_by_threshold(temp, threshold = 5, axis = 1)\n",
    "            tickers = temp.columns #save the ticker\n",
    "            mu = np.array(temp.mean()) #mean of return\n",
    "            Sigma = np.array(temp.cov()) #covariance of return\n",
    "\n",
    "            w = cp.Variable(len(mu))\n",
    "            gamma = cp.Parameter(nonneg=True)\n",
    "            ret = mu.T @ w\n",
    "            risk = cp.quad_form(w, Sigma)\n",
    "            prob = cp.Problem(cp.Maximize(ret - gamma*risk), [cp.sum(w) == 1, w >= 0])\n",
    "\n",
    "            #get the optimized weight\n",
    "            gamma.value = gamma_value #gamma updates\n",
    "            prob.solve()\n",
    "            risk_data = cp.sqrt(risk).value\n",
    "            ret_data = ret.value          \n",
    "            optimized_w = w.value\n",
    "\n",
    "            position = pd.Series(optimized_w, index = tickers)\n",
    "            position = dict(position)\n",
    "\n",
    "        #portfolio weights aggregation\n",
    "        for ticker in position.keys():\n",
    "            stock_return = nasdaq_return[ticker].iloc[i]\n",
    "            weight = position[ticker]\n",
    "            portfolio += stock_return*weight\n",
    "\n",
    "        portfolio_returns.append(portfolio + 1)\n",
    "    nasdaq_return_backtest = pd.Series(portfolio_returns, index = nasdaq_return.index[252:])\n",
    "    backtest_results[gamma_value] = nasdaq_return_backtest"
   ]
  },
  {
   "cell_type": "code",
   "execution_count": 12,
   "metadata": {},
   "outputs": [],
   "source": [
    "backtest_results = pd.DataFrame(backtest_results)"
   ]
  },
  {
   "cell_type": "markdown",
   "metadata": {},
   "source": [
    "## Plot cumulative return"
   ]
  },
  {
   "cell_type": "code",
   "execution_count": 13,
   "metadata": {},
   "outputs": [
    {
     "data": {
      "image/png": "[encoded data removed]",
      "text/plain": [
       "<Figure size 1152x432 with 1 Axes>"
      ]
     },
     "metadata": {},
     "output_type": "display_data"
    }
   ],
   "source": [
    "# Set the canvas size\n",
    "plt.figure(figsize=(16, 6))  # Width: 10 inches, Height: 6 inches\n",
    "\n",
    "# Set a stylish theme\n",
    "sns.set_style(\"whitegrid\")  # You can choose different styles like \"whitegrid\", \"dark\", \"white\", etc.\n",
    "\n",
    "plt.title(\"Cumulative Return NASDAQ 100\")\n",
    "plt.plot(list(nasdaq_original_return.iloc[252:].index),np.array(nasdaq_original_return.iloc[252:].cumprod()), label = \"NASDAQ 100\")\n",
    "for gamma in gamma_lists:\n",
    "    plt.plot(list(backtest_results.index), np.array(backtest_results.cumprod()[gamma]), label = \"risk averse: \" + str(gamma))\n",
    "plt.legend()\n",
    "\n",
    "plt.show()"
   ]
  },
  {
   "cell_type": "markdown",
   "metadata": {},
   "source": [
    "## Analysis\n",
    "\n",
    "Compare the performance by:\n",
    "* Sharpe Ratio\n",
    "* Annual Max Drawdown\n",
    "\n",
    "We don't have the risk free rate data, in our own coding version, just use 0 rate for now"
   ]
  },
  {
   "cell_type": "code",
   "execution_count": 14,
   "metadata": {},
   "outputs": [],
   "source": [
    "def sharpe_ratio(returns, risk_free_rate):\n",
    "    # Calculate the average return\n",
    "    avg_return = np.mean(returns - 1)\n",
    "\n",
    "    # Calculate the standard deviation of returns\n",
    "    std_dev = np.std(returns - 1)\n",
    "\n",
    "    # Calculate the Sharpe ratio\n",
    "    sharpe_ratio = (avg_return - risk_free_rate) / std_dev\n",
    "\n",
    "    return sharpe_ratio * np.sqrt(252) #annualize sharpe ratio"
   ]
  },
  {
   "cell_type": "code",
   "execution_count": 15,
   "metadata": {},
   "outputs": [],
   "source": [
    "def calculate_maximum_drawdown(returns):\n",
    "    # Calculate the cumulative returns\n",
    "    cumulative_returns = returns.cumprod()\n",
    "\n",
    "    # Compute the cumulative maximum value\n",
    "    cumulative_max = cumulative_returns.cummax()\n",
    "\n",
    "    # Calculate the drawdown\n",
    "    drawdown = (cumulative_max - cumulative_returns)/cumulative_max\n",
    "\n",
    "    # Find the maximum drawdown\n",
    "    max_drawdown = drawdown.max()\n",
    "\n",
    "    return max_drawdown"
   ]
  },
  {
   "cell_type": "code",
   "execution_count": 16,
   "metadata": {},
   "outputs": [
    {
     "data": {
      "text/html": [
       "<div>\n",
       "<style scoped>\n",
       "    .dataframe tbody tr th:only-of-type {\n",
       "        vertical-align: middle;\n",
       "    }\n",
       "\n",
       "    .dataframe tbody tr th {\n",
       "        vertical-align: top;\n",
       "    }\n",
       "\n",
       "    .dataframe thead th {\n",
       "        text-align: right;\n",
       "    }\n",
       "</style>\n",
       "<table border=\"1\" class=\"dataframe\">\n",
       "  <thead>\n",
       "    <tr style=\"text-align: right;\">\n",
       "      <th></th>\n",
       "      <th>0.3</th>\n",
       "      <th>0.5</th>\n",
       "      <th>0.7</th>\n",
       "      <th>1.0</th>\n",
       "      <th>1.5</th>\n",
       "      <th>original</th>\n",
       "    </tr>\n",
       "    <tr>\n",
       "      <th>Date</th>\n",
       "      <th></th>\n",
       "      <th></th>\n",
       "      <th></th>\n",
       "      <th></th>\n",
       "      <th></th>\n",
       "      <th></th>\n",
       "    </tr>\n",
       "  </thead>\n",
       "  <tbody>\n",
       "    <tr>\n",
       "      <th>2014-01-03</th>\n",
       "      <td>0.997658</td>\n",
       "      <td>0.998070</td>\n",
       "      <td>0.998246</td>\n",
       "      <td>0.995121</td>\n",
       "      <td>0.989544</td>\n",
       "      <td>0.993029</td>\n",
       "    </tr>\n",
       "    <tr>\n",
       "      <th>2014-01-06</th>\n",
       "      <td>0.985009</td>\n",
       "      <td>0.985705</td>\n",
       "      <td>0.986003</td>\n",
       "      <td>0.986123</td>\n",
       "      <td>0.986116</td>\n",
       "      <td>0.996674</td>\n",
       "    </tr>\n",
       "    <tr>\n",
       "      <th>2014-01-07</th>\n",
       "      <td>0.995393</td>\n",
       "      <td>0.988628</td>\n",
       "      <td>0.985729</td>\n",
       "      <td>0.991247</td>\n",
       "      <td>1.002968</td>\n",
       "      <td>1.008758</td>\n",
       "    </tr>\n",
       "    <tr>\n",
       "      <th>2014-01-08</th>\n",
       "      <td>1.010421</td>\n",
       "      <td>1.009624</td>\n",
       "      <td>1.009283</td>\n",
       "      <td>1.018636</td>\n",
       "      <td>1.035193</td>\n",
       "      <td>1.002724</td>\n",
       "    </tr>\n",
       "    <tr>\n",
       "      <th>2014-01-09</th>\n",
       "      <td>0.979016</td>\n",
       "      <td>0.980262</td>\n",
       "      <td>0.980795</td>\n",
       "      <td>0.980301</td>\n",
       "      <td>0.979052</td>\n",
       "      <td>0.995807</td>\n",
       "    </tr>\n",
       "  </tbody>\n",
       "</table>\n",
       "</div>"
      ],
      "text/plain": [
       "                 0.3       0.5       0.7       1.0       1.5  original\n",
       "Date                                                                  \n",
       "2014-01-03  0.997658  0.998070  0.998246  0.995121  0.989544  0.993029\n",
       "2014-01-06  0.985009  0.985705  0.986003  0.986123  0.986116  0.996674\n",
       "2014-01-07  0.995393  0.988628  0.985729  0.991247  1.002968  1.008758\n",
       "2014-01-08  1.010421  1.009624  1.009283  1.018636  1.035193  1.002724\n",
       "2014-01-09  0.979016  0.980262  0.980795  0.980301  0.979052  0.995807"
      ]
     },
     "execution_count": 16,
     "metadata": {},
     "output_type": "execute_result"
    }
   ],
   "source": [
    "backtest_results[\"original\"] = nasdaq_original_return.iloc[252:]\n",
    "backtest_results.head()"
   ]
  },
  {
   "cell_type": "code",
   "execution_count": 17,
   "metadata": {},
   "outputs": [],
   "source": [
    "#calculate Sharpe Ratio by years\n",
    "years = [date.strftime(\"%Y\") for date in list(backtest_results.index)]\n",
    "years = list(dict.fromkeys(years))\n",
    "\n",
    "sharpes_by_years = {}\n",
    "max_drawdown_by_years = {}\n",
    "for year in years:\n",
    "    selected = backtest_results[backtest_results.index.year == int(year)]\n",
    "    sharpe = selected.apply(lambda x: sharpe_ratio(x, 0), axis = 0) #assuming rate = 0, not exactly right\n",
    "    max_drawdown = selected.apply(lambda x: calculate_maximum_drawdown(x), axis = 0)\n",
    "    sharpes_by_years[year] = sharpe\n",
    "    max_drawdown_by_years[year] = max_drawdown"
   ]
  },
  {
   "cell_type": "code",
   "execution_count": 18,
   "metadata": {},
   "outputs": [
    {
     "data": {
      "text/html": [
       "<div>\n",
       "<style scoped>\n",
       "    .dataframe tbody tr th:only-of-type {\n",
       "        vertical-align: middle;\n",
       "    }\n",
       "\n",
       "    .dataframe tbody tr th {\n",
       "        vertical-align: top;\n",
       "    }\n",
       "\n",
       "    .dataframe thead th {\n",
       "        text-align: right;\n",
       "    }\n",
       "</style>\n",
       "<table border=\"1\" class=\"dataframe\">\n",
       "  <thead>\n",
       "    <tr style=\"text-align: right;\">\n",
       "      <th></th>\n",
       "      <th>2014</th>\n",
       "      <th>2015</th>\n",
       "      <th>2016</th>\n",
       "      <th>2017</th>\n",
       "      <th>2018</th>\n",
       "      <th>2019</th>\n",
       "      <th>2020</th>\n",
       "      <th>2021</th>\n",
       "      <th>2022</th>\n",
       "      <th>2023</th>\n",
       "    </tr>\n",
       "  </thead>\n",
       "  <tbody>\n",
       "    <tr>\n",
       "      <th>0.3</th>\n",
       "      <td>1.135459</td>\n",
       "      <td>-0.447481</td>\n",
       "      <td>1.650399</td>\n",
       "      <td>0.812435</td>\n",
       "      <td>0.755312</td>\n",
       "      <td>2.084050</td>\n",
       "      <td>1.722728</td>\n",
       "      <td>-0.001297</td>\n",
       "      <td>-0.075397</td>\n",
       "      <td>-0.138900</td>\n",
       "    </tr>\n",
       "    <tr>\n",
       "      <th>0.5</th>\n",
       "      <td>1.092508</td>\n",
       "      <td>-0.200190</td>\n",
       "      <td>1.740088</td>\n",
       "      <td>0.703480</td>\n",
       "      <td>0.594954</td>\n",
       "      <td>1.849744</td>\n",
       "      <td>1.932160</td>\n",
       "      <td>-0.000309</td>\n",
       "      <td>-0.087904</td>\n",
       "      <td>-0.265281</td>\n",
       "    </tr>\n",
       "    <tr>\n",
       "      <th>0.7</th>\n",
       "      <td>1.087724</td>\n",
       "      <td>0.042810</td>\n",
       "      <td>1.689833</td>\n",
       "      <td>0.645750</td>\n",
       "      <td>0.466685</td>\n",
       "      <td>1.625078</td>\n",
       "      <td>1.972352</td>\n",
       "      <td>0.141421</td>\n",
       "      <td>-0.191015</td>\n",
       "      <td>-0.225889</td>\n",
       "    </tr>\n",
       "    <tr>\n",
       "      <th>1.0</th>\n",
       "      <td>1.013172</td>\n",
       "      <td>0.306714</td>\n",
       "      <td>1.411420</td>\n",
       "      <td>0.572782</td>\n",
       "      <td>0.427789</td>\n",
       "      <td>1.363693</td>\n",
       "      <td>1.958950</td>\n",
       "      <td>0.240366</td>\n",
       "      <td>-0.312093</td>\n",
       "      <td>-0.117711</td>\n",
       "    </tr>\n",
       "    <tr>\n",
       "      <th>1.5</th>\n",
       "      <td>1.139091</td>\n",
       "      <td>0.651216</td>\n",
       "      <td>1.104753</td>\n",
       "      <td>0.665664</td>\n",
       "      <td>0.562585</td>\n",
       "      <td>1.095520</td>\n",
       "      <td>1.980830</td>\n",
       "      <td>0.582689</td>\n",
       "      <td>-0.408471</td>\n",
       "      <td>-0.040242</td>\n",
       "    </tr>\n",
       "    <tr>\n",
       "      <th>original</th>\n",
       "      <td>1.307741</td>\n",
       "      <td>0.543228</td>\n",
       "      <td>0.435601</td>\n",
       "      <td>2.734812</td>\n",
       "      <td>0.067460</td>\n",
       "      <td>2.056499</td>\n",
       "      <td>1.252017</td>\n",
       "      <td>1.368307</td>\n",
       "      <td>-1.075273</td>\n",
       "      <td>3.425810</td>\n",
       "    </tr>\n",
       "  </tbody>\n",
       "</table>\n",
       "</div>"
      ],
      "text/plain": [
       "              2014      2015      2016      2017      2018      2019  \\\n",
       "0.3       1.135459 -0.447481  1.650399  0.812435  0.755312  2.084050   \n",
       "0.5       1.092508 -0.200190  1.740088  0.703480  0.594954  1.849744   \n",
       "0.7       1.087724  0.042810  1.689833  0.645750  0.466685  1.625078   \n",
       "1.0       1.013172  0.306714  1.411420  0.572782  0.427789  1.363693   \n",
       "1.5       1.139091  0.651216  1.104753  0.665664  0.562585  1.095520   \n",
       "original  1.307741  0.543228  0.435601  2.734812  0.067460  2.056499   \n",
       "\n",
       "              2020      2021      2022      2023  \n",
       "0.3       1.722728 -0.001297 -0.075397 -0.138900  \n",
       "0.5       1.932160 -0.000309 -0.087904 -0.265281  \n",
       "0.7       1.972352  0.141421 -0.191015 -0.225889  \n",
       "1.0       1.958950  0.240366 -0.312093 -0.117711  \n",
       "1.5       1.980830  0.582689 -0.408471 -0.040242  \n",
       "original  1.252017  1.368307 -1.075273  3.425810  "
      ]
     },
     "execution_count": 18,
     "metadata": {},
     "output_type": "execute_result"
    }
   ],
   "source": [
    "#Sharpe ratio by year\n",
    "pd.DataFrame(sharpes_by_years)"
   ]
  },
  {
   "cell_type": "code",
   "execution_count": 19,
   "metadata": {},
   "outputs": [
    {
     "data": {
      "text/html": [
       "<div>\n",
       "<style scoped>\n",
       "    .dataframe tbody tr th:only-of-type {\n",
       "        vertical-align: middle;\n",
       "    }\n",
       "\n",
       "    .dataframe tbody tr th {\n",
       "        vertical-align: top;\n",
       "    }\n",
       "\n",
       "    .dataframe thead th {\n",
       "        text-align: right;\n",
       "    }\n",
       "</style>\n",
       "<table border=\"1\" class=\"dataframe\">\n",
       "  <thead>\n",
       "    <tr style=\"text-align: right;\">\n",
       "      <th></th>\n",
       "      <th>2014</th>\n",
       "      <th>2015</th>\n",
       "      <th>2016</th>\n",
       "      <th>2017</th>\n",
       "      <th>2018</th>\n",
       "      <th>2019</th>\n",
       "      <th>2020</th>\n",
       "      <th>2021</th>\n",
       "      <th>2022</th>\n",
       "      <th>2023</th>\n",
       "    </tr>\n",
       "  </thead>\n",
       "  <tbody>\n",
       "    <tr>\n",
       "      <th>0.3</th>\n",
       "      <td>0.357926</td>\n",
       "      <td>0.358933</td>\n",
       "      <td>0.296482</td>\n",
       "      <td>0.339474</td>\n",
       "      <td>0.479947</td>\n",
       "      <td>0.484640</td>\n",
       "      <td>0.594009</td>\n",
       "      <td>0.582240</td>\n",
       "      <td>0.418076</td>\n",
       "      <td>0.386893</td>\n",
       "    </tr>\n",
       "    <tr>\n",
       "      <th>0.5</th>\n",
       "      <td>0.361052</td>\n",
       "      <td>0.353234</td>\n",
       "      <td>0.296482</td>\n",
       "      <td>0.339474</td>\n",
       "      <td>0.479947</td>\n",
       "      <td>0.484640</td>\n",
       "      <td>0.594009</td>\n",
       "      <td>0.521258</td>\n",
       "      <td>0.377762</td>\n",
       "      <td>0.337590</td>\n",
       "    </tr>\n",
       "    <tr>\n",
       "      <th>0.7</th>\n",
       "      <td>0.360462</td>\n",
       "      <td>0.339577</td>\n",
       "      <td>0.296482</td>\n",
       "      <td>0.339473</td>\n",
       "      <td>0.483486</td>\n",
       "      <td>0.499864</td>\n",
       "      <td>0.594009</td>\n",
       "      <td>0.456216</td>\n",
       "      <td>0.338626</td>\n",
       "      <td>0.295476</td>\n",
       "    </tr>\n",
       "    <tr>\n",
       "      <th>1.0</th>\n",
       "      <td>0.351972</td>\n",
       "      <td>0.282523</td>\n",
       "      <td>0.280733</td>\n",
       "      <td>0.339789</td>\n",
       "      <td>0.466709</td>\n",
       "      <td>0.520560</td>\n",
       "      <td>0.593416</td>\n",
       "      <td>0.406178</td>\n",
       "      <td>0.299063</td>\n",
       "      <td>0.255720</td>\n",
       "    </tr>\n",
       "    <tr>\n",
       "      <th>1.5</th>\n",
       "      <td>0.300597</td>\n",
       "      <td>0.230253</td>\n",
       "      <td>0.263066</td>\n",
       "      <td>0.269994</td>\n",
       "      <td>0.386921</td>\n",
       "      <td>0.499485</td>\n",
       "      <td>0.553249</td>\n",
       "      <td>0.355750</td>\n",
       "      <td>0.260461</td>\n",
       "      <td>0.220122</td>\n",
       "    </tr>\n",
       "    <tr>\n",
       "      <th>original</th>\n",
       "      <td>0.082328</td>\n",
       "      <td>0.141753</td>\n",
       "      <td>0.122294</td>\n",
       "      <td>0.048993</td>\n",
       "      <td>0.229868</td>\n",
       "      <td>0.110596</td>\n",
       "      <td>0.280329</td>\n",
       "      <td>0.109259</td>\n",
       "      <td>0.352837</td>\n",
       "      <td>0.075986</td>\n",
       "    </tr>\n",
       "  </tbody>\n",
       "</table>\n",
       "</div>"
      ],
      "text/plain": [
       "              2014      2015      2016      2017      2018      2019  \\\n",
       "0.3       0.357926  0.358933  0.296482  0.339474  0.479947  0.484640   \n",
       "0.5       0.361052  0.353234  0.296482  0.339474  0.479947  0.484640   \n",
       "0.7       0.360462  0.339577  0.296482  0.339473  0.483486  0.499864   \n",
       "1.0       0.351972  0.282523  0.280733  0.339789  0.466709  0.520560   \n",
       "1.5       0.300597  0.230253  0.263066  0.269994  0.386921  0.499485   \n",
       "original  0.082328  0.141753  0.122294  0.048993  0.229868  0.110596   \n",
       "\n",
       "              2020      2021      2022      2023  \n",
       "0.3       0.594009  0.582240  0.418076  0.386893  \n",
       "0.5       0.594009  0.521258  0.377762  0.337590  \n",
       "0.7       0.594009  0.456216  0.338626  0.295476  \n",
       "1.0       0.593416  0.406178  0.299063  0.255720  \n",
       "1.5       0.553249  0.355750  0.260461  0.220122  \n",
       "original  0.280329  0.109259  0.352837  0.075986  "
      ]
     },
     "execution_count": 19,
     "metadata": {},
     "output_type": "execute_result"
    }
   ],
   "source": [
    "#Maximum annual drawdown by year, percent\n",
    "pd.DataFrame(max_drawdown_by_years)"
   ]
  },
  {
   "cell_type": "markdown",
   "metadata": {},
   "source": [
    "## Apply pyfolio for portfolio analysis\n",
    "* performance statistics analysis\n",
    "* graphical reports"
   ]
  },
  {
   "cell_type": "code",
   "execution_count": 20,
   "metadata": {},
   "outputs": [],
   "source": [
    "perf_analysis = {}\n",
    "for gamma in gamma_lists:\n",
    "    stock_rets = backtest_results[gamma]\n",
    "    stock_rets = stock_rets - 1\n",
    "    performance_stats = pf.timeseries.perf_stats(stock_rets)\n",
    "    perf_analysis[gamma] = performance_stats\n",
    "stock_rets = backtest_results[\"original\"]\n",
    "stock_rets = stock_rets - 1\n",
    "perf_analysis[\"original\"] = pf.timeseries.perf_stats(stock_rets)\n",
    "perf_analysis = pd.DataFrame(perf_analysis)"
   ]
  },
  {
   "cell_type": "code",
   "execution_count": 21,
   "metadata": {},
   "outputs": [
    {
     "data": {
      "text/html": [
       "<div>\n",
       "<style scoped>\n",
       "    .dataframe tbody tr th:only-of-type {\n",
       "        vertical-align: middle;\n",
       "    }\n",
       "\n",
       "    .dataframe tbody tr th {\n",
       "        vertical-align: top;\n",
       "    }\n",
       "\n",
       "    .dataframe thead th {\n",
       "        text-align: right;\n",
       "    }\n",
       "</style>\n",
       "<table border=\"1\" class=\"dataframe\">\n",
       "  <thead>\n",
       "    <tr style=\"text-align: right;\">\n",
       "      <th></th>\n",
       "      <th>0.3</th>\n",
       "      <th>0.5</th>\n",
       "      <th>0.7</th>\n",
       "      <th>1</th>\n",
       "      <th>1.5</th>\n",
       "      <th>original</th>\n",
       "    </tr>\n",
       "  </thead>\n",
       "  <tbody>\n",
       "    <tr>\n",
       "      <th>Annual return</th>\n",
       "      <td>0.424005</td>\n",
       "      <td>0.417801</td>\n",
       "      <td>0.394055</td>\n",
       "      <td>0.336221</td>\n",
       "      <td>0.331423</td>\n",
       "      <td>0.168272</td>\n",
       "    </tr>\n",
       "    <tr>\n",
       "      <th>Cumulative returns</th>\n",
       "      <td>28.301371</td>\n",
       "      <td>27.103993</td>\n",
       "      <td>22.915217</td>\n",
       "      <td>14.952856</td>\n",
       "      <td>14.413749</td>\n",
       "      <td>3.419986</td>\n",
       "    </tr>\n",
       "    <tr>\n",
       "      <th>Annual volatility</th>\n",
       "      <td>0.637918</td>\n",
       "      <td>0.592608</td>\n",
       "      <td>0.563963</td>\n",
       "      <td>0.524732</td>\n",
       "      <td>0.457394</td>\n",
       "      <td>0.219537</td>\n",
       "    </tr>\n",
       "    <tr>\n",
       "      <th>Sharpe ratio</th>\n",
       "      <td>0.869868</td>\n",
       "      <td>0.883099</td>\n",
       "      <td>0.869517</td>\n",
       "      <td>0.814820</td>\n",
       "      <td>0.856030</td>\n",
       "      <td>0.818746</td>\n",
       "    </tr>\n",
       "    <tr>\n",
       "      <th>Calmar ratio</th>\n",
       "      <td>0.574391</td>\n",
       "      <td>0.612562</td>\n",
       "      <td>0.629094</td>\n",
       "      <td>0.566587</td>\n",
       "      <td>0.599048</td>\n",
       "      <td>0.473165</td>\n",
       "    </tr>\n",
       "    <tr>\n",
       "      <th>Stability</th>\n",
       "      <td>0.879909</td>\n",
       "      <td>0.893696</td>\n",
       "      <td>0.902320</td>\n",
       "      <td>0.902462</td>\n",
       "      <td>0.922476</td>\n",
       "      <td>0.932151</td>\n",
       "    </tr>\n",
       "    <tr>\n",
       "      <th>Max drawdown</th>\n",
       "      <td>-0.738182</td>\n",
       "      <td>-0.682055</td>\n",
       "      <td>-0.626384</td>\n",
       "      <td>-0.593416</td>\n",
       "      <td>-0.553249</td>\n",
       "      <td>-0.355631</td>\n",
       "    </tr>\n",
       "    <tr>\n",
       "      <th>Omega ratio</th>\n",
       "      <td>1.180303</td>\n",
       "      <td>1.183126</td>\n",
       "      <td>1.180398</td>\n",
       "      <td>1.168398</td>\n",
       "      <td>1.174398</td>\n",
       "      <td>1.162707</td>\n",
       "    </tr>\n",
       "    <tr>\n",
       "      <th>Sortino ratio</th>\n",
       "      <td>1.325458</td>\n",
       "      <td>1.334037</td>\n",
       "      <td>1.298335</td>\n",
       "      <td>1.190963</td>\n",
       "      <td>1.231617</td>\n",
       "      <td>1.153623</td>\n",
       "    </tr>\n",
       "    <tr>\n",
       "      <th>Skew</th>\n",
       "      <td>0.733304</td>\n",
       "      <td>0.693808</td>\n",
       "      <td>0.638511</td>\n",
       "      <td>0.384376</td>\n",
       "      <td>-0.028494</td>\n",
       "      <td>-0.350105</td>\n",
       "    </tr>\n",
       "    <tr>\n",
       "      <th>Kurtosis</th>\n",
       "      <td>12.644648</td>\n",
       "      <td>14.430342</td>\n",
       "      <td>16.346771</td>\n",
       "      <td>16.716635</td>\n",
       "      <td>13.369503</td>\n",
       "      <td>7.082593</td>\n",
       "    </tr>\n",
       "    <tr>\n",
       "      <th>Tail ratio</th>\n",
       "      <td>1.075849</td>\n",
       "      <td>1.070121</td>\n",
       "      <td>1.076196</td>\n",
       "      <td>1.031853</td>\n",
       "      <td>1.030339</td>\n",
       "      <td>0.939257</td>\n",
       "    </tr>\n",
       "    <tr>\n",
       "      <th>Daily value at risk</th>\n",
       "      <td>-0.078168</td>\n",
       "      <td>-0.072585</td>\n",
       "      <td>-0.069107</td>\n",
       "      <td>-0.064413</td>\n",
       "      <td>-0.056072</td>\n",
       "      <td>-0.026946</td>\n",
       "    </tr>\n",
       "  </tbody>\n",
       "</table>\n",
       "</div>"
      ],
      "text/plain": [
       "                           0.3        0.5        0.7          1        1.5  \\\n",
       "Annual return         0.424005   0.417801   0.394055   0.336221   0.331423   \n",
       "Cumulative returns   28.301371  27.103993  22.915217  14.952856  14.413749   \n",
       "Annual volatility     0.637918   0.592608   0.563963   0.524732   0.457394   \n",
       "Sharpe ratio          0.869868   0.883099   0.869517   0.814820   0.856030   \n",
       "Calmar ratio          0.574391   0.612562   0.629094   0.566587   0.599048   \n",
       "Stability             0.879909   0.893696   0.902320   0.902462   0.922476   \n",
       "Max drawdown         -0.738182  -0.682055  -0.626384  -0.593416  -0.553249   \n",
       "Omega ratio           1.180303   1.183126   1.180398   1.168398   1.174398   \n",
       "Sortino ratio         1.325458   1.334037   1.298335   1.190963   1.231617   \n",
       "Skew                  0.733304   0.693808   0.638511   0.384376  -0.028494   \n",
       "Kurtosis             12.644648  14.430342  16.346771  16.716635  13.369503   \n",
       "Tail ratio            1.075849   1.070121   1.076196   1.031853   1.030339   \n",
       "Daily value at risk  -0.078168  -0.072585  -0.069107  -0.064413  -0.056072   \n",
       "\n",
       "                     original  \n",
       "Annual return        0.168272  \n",
       "Cumulative returns   3.419986  \n",
       "Annual volatility    0.219537  \n",
       "Sharpe ratio         0.818746  \n",
       "Calmar ratio         0.473165  \n",
       "Stability            0.932151  \n",
       "Max drawdown        -0.355631  \n",
       "Omega ratio          1.162707  \n",
       "Sortino ratio        1.153623  \n",
       "Skew                -0.350105  \n",
       "Kurtosis             7.082593  \n",
       "Tail ratio           0.939257  \n",
       "Daily value at risk -0.026946  "
      ]
     },
     "execution_count": 21,
     "metadata": {},
     "output_type": "execute_result"
    }
   ],
   "source": [
    "perf_analysis"
   ]
  },
  {
   "cell_type": "markdown",
   "metadata": {},
   "source": [
    "Below graphs are plotted based on the original NASDAQ 100, they provided perspectives on the benchmark performance"
   ]
  },
  {
   "cell_type": "code",
   "execution_count": 22,
   "metadata": {},
   "outputs": [
    {
     "data": {
      "text/plain": [
       "<matplotlib.axes._subplots.AxesSubplot at 0x22ecccb2fa0>"
      ]
     },
     "execution_count": 22,
     "metadata": {},
     "output_type": "execute_result"
    },
    {
     "data": {
      "image/png": "[encoded data removed]",
      "text/plain": [
       "<Figure size 432x288 with 1 Axes>"
      ]
     },
     "metadata": {},
     "output_type": "display_data"
    }
   ],
   "source": [
    "pf.plotting.plot_annual_returns(stock_rets)"
   ]
  },
  {
   "cell_type": "code",
   "execution_count": 23,
   "metadata": {},
   "outputs": [
    {
     "data": {
      "text/plain": [
       "<matplotlib.axes._subplots.AxesSubplot at 0x22efeb13cd0>"
      ]
     },
     "execution_count": 23,
     "metadata": {},
     "output_type": "execute_result"
    },
    {
     "data": {
      "image/png": "[encoded data removed]",
      "text/plain": [
       "<Figure size 432x288 with 1 Axes>"
      ]
     },
     "metadata": {},
     "output_type": "display_data"
    }
   ],
   "source": [
    "pf.plotting.plot_drawdown_underwater(stock_rets)"
   ]
  },
  {
   "cell_type": "code",
   "execution_count": 24,
   "metadata": {},
   "outputs": [
    {
     "data": {
      "text/plain": [
       "<matplotlib.axes._subplots.AxesSubplot at 0x22eccbb0a30>"
      ]
     },
     "execution_count": 24,
     "metadata": {},
     "output_type": "execute_result"
    },
    {
     "data": {
      "image/png": "[encoded data removed]",
      "text/plain": [
       "<Figure size 432x288 with 1 Axes>"
      ]
     },
     "metadata": {},
     "output_type": "display_data"
    }
   ],
   "source": [
    "pf.plotting.plot_monthly_returns_heatmap(stock_rets)"
   ]
  },
  {
   "cell_type": "code",
   "execution_count": 25,
   "metadata": {},
   "outputs": [
    {
     "data": {
      "text/plain": [
       "<matplotlib.axes._subplots.AxesSubplot at 0x22ecb0a4bb0>"
      ]
     },
     "execution_count": 25,
     "metadata": {},
     "output_type": "execute_result"
    },
    {
     "data": {
      "image/png": "[encoded data removed]",
      "text/plain": [
       "<Figure size 432x288 with 1 Axes>"
      ]
     },
     "metadata": {},
     "output_type": "display_data"
    }
   ],
   "source": [
    "pf.plotting.plot_rolling_volatility(stock_rets)"
   ]
  },
  {
   "cell_type": "code",
   "execution_count": null,
   "metadata": {},
   "outputs": [],
   "source": []
  }
 ],
 "metadata": {
  "kernelspec": {
   "display_name": "Python 3",
   "language": "python",
   "name": "python3"
  },
  "language_info": {
   "codemirror_mode": {
    "name": "ipython",
    "version": 3
   },
   "file_extension": ".py",
   "mimetype": "text/x-python",
   "name": "python",
   "nbconvert_exporter": "python",
   "pygments_lexer": "ipython3",
   "version": "3.8.5"
  }
 },
 "nbformat": 4,
 "nbformat_minor": 4
}
